{
 "cells": [
  {
   "cell_type": "markdown",
   "metadata": {},
   "source": [
    "# Ejercicio 1: Variables y Operadores Aritméticos\n",
    "\n",
    "Declara dos variables a y b con valores enteros.\n",
    "Calcula la suma, resta, multiplicación, división, el resto(módulo), división entera, potencia\n",
    "Muestra los resultados en la consola.\n",
    "\n",
    "Por último, guarda en una variable \"precio\" el valor 25.99 y en otra variable \"IVA\" el valor 10. Calcula el precio final sumándole el porcentaje de IVA correspondiente al precio y muestra el mensaje \"Precio incial=  , IVA= , Precio final = \"."
   ]
  },
  {
   "cell_type": "code",
   "execution_count": 16,
   "metadata": {},
   "outputs": [
    {
     "name": "stdout",
     "output_type": "stream",
     "text": [
      "Suma: 15\n",
      "Resta: 5\n",
      "Multiplicación: 50\n",
      "División: 2.0\n",
      "Módulo: 0\n",
      "Precio inicial= 25.99 , IVA= 10 , Precio final= 28.589\n"
     ]
    }
   ],
   "source": [
    "\n",
    "\n"
   ]
  },
  {
   "cell_type": "markdown",
   "metadata": {},
   "source": [
    "# Ejercicio 2: Operadores de Asignación\n",
    "\n",
    "+ Declara una variable x con un valor entero 10.\n",
    "+ Usa operadores de asignación y aritmética para modificar el valor de x sucesivamente según la lista. \n",
    "    + += 5\n",
    "    + -= 3\n",
    "    + *= 2\n",
    "    + /= 4\n",
    "    + %= 3\n",
    "\n",
    "Muestra el valor de x y el tipo después de cada operación, en formato -> \"x += 5 es [el valor que sea], tipo [el que sea]"
   ]
  },
  {
   "cell_type": "code",
   "execution_count": 17,
   "metadata": {},
   "outputs": [
    {
     "name": "stdout",
     "output_type": "stream",
     "text": [
      "x += 5: 15 Su tipo es:  <class 'int'>\n",
      "x -= 3: 12\n",
      "x *= 2: 24\n",
      "x /= 4: 6.0\n",
      "x %= 3: 0.0\n"
     ]
    }
   ],
   "source": []
  },
  {
   "cell_type": "markdown",
   "metadata": {},
   "source": [
    "# Ejercicio 3: Operadores de Comparación\n",
    "Declara dos variables a y b con valores enteros diferentes.\n",
    "Usa operadores de comparación para comparar a y b (==, !=, >, <, >=, <=).\n",
    "Muestra los resultados de las comparaciones en la consola."
   ]
  },
  {
   "cell_type": "code",
   "execution_count": 5,
   "metadata": {},
   "outputs": [
    {
     "name": "stdout",
     "output_type": "stream",
     "text": [
      "a == b: False\n",
      "a != b: True\n",
      "a > b: True\n",
      "a < b: False\n",
      "a >= b: True\n",
      "a <= b: False\n"
     ]
    }
   ],
   "source": []
  },
  {
   "cell_type": "markdown",
   "metadata": {},
   "source": [
    "# Ejercicio 4: Operadores Lógicos\n",
    "\n",
    "Declara dos variables booleanas p (True) y q (False).\n",
    "Usa operadores lógicos (and, or, not) para combinar p y q.\n",
    "Muestra los resultados de las combinaciones en la consola."
   ]
  },
  {
   "cell_type": "code",
   "execution_count": 6,
   "metadata": {},
   "outputs": [
    {
     "name": "stdout",
     "output_type": "stream",
     "text": [
      "p and q: False\n",
      "p or q: True\n",
      "not p: False\n"
     ]
    }
   ],
   "source": []
  },
  {
   "cell_type": "markdown",
   "metadata": {},
   "source": [
    "# Ejercicio 5: Operadores is y in\n",
    "\n",
    "Declara una variable a con un valor entero y otra variable b con el mismo valor.\n",
    "Usa el operador is para verificar si a y b son el mismo objeto. Comprueba lo mismo obteniendo sus id y un operador de comparación.\n",
    "\n",
    "Declara un string con una cadena.\n",
    "Usa el operador in para verificar si una subcadena está dentro o no de la lista.\n",
    "Muestra los resultados en la consola con un mensaje. Por ejemplo \"la cadena 'x' no está en la cadena 'y'\""
   ]
  },
  {
   "cell_type": "code",
   "execution_count": 7,
   "metadata": {},
   "outputs": [
    {
     "name": "stdout",
     "output_type": "stream",
     "text": [
      "a is b: True\n",
      "3 in lista: True\n",
      "6 in lista: False\n"
     ]
    }
   ],
   "source": []
  },
  {
   "cell_type": "markdown",
   "metadata": {},
   "source": [
    "# Ejercicio 6: Operaciones Binarias\n",
    "\n",
    "Realiza las siguientes operaciones, mostrando en cada paso los resultados en binario:\n",
    "\n",
    "+ Declara dos variables a y b con valores enteros.\n",
    "+ Realiza operaciones binarias (AND, OR, XOR) entre a y b.\n",
    "+ Realiza desplazamientos a la izquierda y a la derecha en a de 2 posiciones.\n"
   ]
  },
  {
   "cell_type": "code",
   "execution_count": 9,
   "metadata": {},
   "outputs": [
    {
     "name": "stdout",
     "output_type": "stream",
     "text": [
      "a & b: 0b0\n",
      "a | b: 0b1111\n",
      "a ^ b: 0b1111\n",
      "a << 1: 0b10100\n",
      "a >> 1: 0b101\n"
     ]
    }
   ],
   "source": [
    "\n"
   ]
  },
  {
   "cell_type": "markdown",
   "metadata": {},
   "source": [
    "# Desafío Binario\n",
    "\n",
    "+ Declara una variable a con el valor '10'\n",
    "+ Muestra el valor binario por pantalla\n",
    "+ Haciendo primero un and y luego al resultado anterior un or, obtener  0b1010.\n",
    "+ Muestra el resultado en la consola."
   ]
  },
  {
   "cell_type": "code",
   "execution_count": 25,
   "metadata": {},
   "outputs": [
    {
     "name": "stdout",
     "output_type": "stream",
     "text": [
      "a: 0b1010\n",
      "Resultado binario: 0b1101\n"
     ]
    }
   ],
   "source": []
  }
 ],
 "metadata": {
  "kernelspec": {
   "display_name": ".ent-env",
   "language": "python",
   "name": "python3"
  },
  "language_info": {
   "codemirror_mode": {
    "name": "ipython",
    "version": 3
   },
   "file_extension": ".py",
   "mimetype": "text/x-python",
   "name": "python",
   "nbconvert_exporter": "python",
   "pygments_lexer": "ipython3",
   "version": "3.12.3"
  }
 },
 "nbformat": 4,
 "nbformat_minor": 2
}
