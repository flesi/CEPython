{
 "cells": [
  {
   "cell_type": "markdown",
   "metadata": {},
   "source": [
    "# Inputs, aritmética y comparaciones"
   ]
  },
  {
   "cell_type": "code",
   "execution_count": 6,
   "metadata": {},
   "outputs": [
    {
     "name": "stdout",
     "output_type": "stream",
     "text": [
      "¿primero mayor que el segundo? True\n",
      "Suma 7 , Multiplicación: 12\n"
     ]
    }
   ],
   "source": [
    "# Pide 2 números por teclado y guárdalos en 2 variables\n",
    "entero1 = int(input(\"Introduce un número: \"))\n",
    "entero2 = int(input(\"Introduce el segundo número: \"))\n",
    "# Muestra si el primer número es mayor que el segundo de la forma -> \"¿primero mayor que el segudo? True/False\"\n",
    "print(\"¿primero mayor que el segundo?\", entero1 > entero2)\n",
    "\n",
    "# Realiza la suma y multiplicación de ambos números y muestra el resultado de la forma -> \"Suma: X, Multiplicación: Y\"\n",
    "print(\"Suma\", entero1 + entero2, \", Multiplicación:\", entero1 * entero2)"
   ]
  },
  {
   "cell_type": "markdown",
   "metadata": {},
   "source": [
    "# Concatenación de strings\n",
    "\n",
    "Una forma rápida de concatenar strings (unir dos cadenas de caracteres) es mediante el operador '+'. Admite tanto variables que contienen un str como una string literal.\n",
    "\n",
    "+ Lee teclado 2 palabras y guárdalas en variables \"cadena1\" y \"cadena2\"\n",
    "+ Concatena ambas palabras en una nueva variable llamada \"cadena_total\" con un espacio entre ambas\n",
    "+ Guarda en una variable llamada \"entero\" el número 10\n",
    "+ Añade a cadena_total el contenido de la variable \"entero\" con un espacio de separación.\n",
    "+ Imprime el resultado"
   ]
  },
  {
   "cell_type": "code",
   "execution_count": 8,
   "metadata": {},
   "outputs": [
    {
     "name": "stdout",
     "output_type": "stream",
     "text": [
      "casa perro 10\n"
     ]
    }
   ],
   "source": [
    "cadena1 = input(\"Escribe la primera cadena:\")\n",
    "cadena2 = input(\"Escribe la segunda cadena:\")\n",
    "\n",
    "cadena_total = cadena1 + \" \" + cadena2\n",
    "\n",
    "entero = 10\n",
    "cadena_total = cadena_total + \" \" + str(entero)\n",
    "\n",
    "print(cadena_total)"
   ]
  },
  {
   "cell_type": "markdown",
   "metadata": {},
   "source": [
    "# f-strings\n",
    "\n",
    "Pide 2 números enteros por teclado y guárdalos en entero1 y entero2\n",
    "\n",
    "Muestra directamente, utilizando f-strings \"La suma de ambos es X\"\n",
    "\n",
    "Los f-strings se construyen mezclando literales cadena con variables o expresiones encerradas entre {} y anteponiendo la 'f' al strings.\n",
    "\n",
    "Ejemplo: f\"Mi cadena literal {variable/expresión}\""
   ]
  },
  {
   "cell_type": "code",
   "execution_count": 9,
   "metadata": {},
   "outputs": [
    {
     "name": "stdout",
     "output_type": "stream",
     "text": [
      "La suma de ambos es  5\n"
     ]
    }
   ],
   "source": [
    "entero1 = int(input(\"Escribe el primer entero\"))\n",
    "entero2 = int(input(\"Escribe el segundo entero\"))\n",
    "\n",
    "print(f\"La suma de ambos es {entero1 + entero2}\")"
   ]
  },
  {
   "cell_type": "markdown",
   "metadata": {},
   "source": [
    "# ¿Qué es una función?\n",
    "\n",
    "Una función nos permite reutilizar porciones de código sin tener que escribirlo varias veces.\n",
    "\n",
    "1. Agrupamos un conjunto de instrucciones dentro de una función.\n",
    "2. Cuando queramos usar ese código, podemos \"invocarlo\" en cualquier punto del programa.\n",
    "3. Una función puede opcoinalmente recibir datos para operar con ellos. Estos datos se le envían a la función cuando se invoca.\n",
    "4. La función puede opcionalmente retornar un valor, que es recogido/guardado allí donde se invoca."
   ]
  },
  {
   "cell_type": "code",
   "execution_count": 15,
   "metadata": {},
   "outputs": [
    {
     "data": {
      "text/plain": [
       "-1"
      ]
     },
     "execution_count": 15,
     "metadata": {},
     "output_type": "execute_result"
    }
   ],
   "source": [
    "# Dado 2 números quiero una función que retorne la suma\n",
    "def suma(n1,n2):\n",
    "    if n1 > n2:\n",
    "        return n1 + n2\n",
    "    else:\n",
    "        return n1 - n2\n",
    "\n",
    "# Una vez definida la función, puedo llamarla tantas veces como quiera\n",
    "suma(3,4)"
   ]
  },
  {
   "cell_type": "markdown",
   "metadata": {},
   "source": [
    "# Importación de librería math\n",
    "\n",
    "Una **librería** es un conjunto de funciones, clases y definición de constantes en un archivo independiente de python.\n",
    "\n",
    "Python tiene un conjunto de librerías estandar que vienen con el propio intérprete que no es necesario instalarlas con pip.\n",
    "\n",
    "La librería math nos permite otras operaciones aritméticas aparte de las básicas.\n",
    "\n",
    "Importa la librería como -> **import math as m**\n",
    "\n",
    "Documentación de math -> https://docs.python.org/es/3/library/math.html"
   ]
  },
  {
   "cell_type": "code",
   "execution_count": 11,
   "metadata": {},
   "outputs": [],
   "source": [
    "import math as m"
   ]
  },
  {
   "cell_type": "code",
   "execution_count": 13,
   "metadata": {},
   "outputs": [
    {
     "name": "stdout",
     "output_type": "stream",
     "text": [
      "4\n",
      "5\n"
     ]
    }
   ],
   "source": [
    "# EJEMPLOS DE FLOOR Y CEIL\n",
    "\n",
    "# Lee un número con decimales \n",
    "num = float(input(\"Escribe un numero con decimales\"))\n",
    "\n",
    "# Invocamos a la función floor de la librería math y nos va a devolver el resultado del redondeo a la baja\n",
    "print(m.floor(num))\n",
    "\n",
    "# Hacemos lo mismo al alza pero directamente con la función ceil\n",
    "print(m.ceil(num))"
   ]
  },
  {
   "cell_type": "markdown",
   "metadata": {},
   "source": [
    "# Retorno de algunas funciones\n",
    "\n",
    "Algunas funciones retornan (devuelven) 2 valores o incluso más. \n",
    "\n",
    "Realmente lo que devuelven es una tupla (las veremos a fondo más adelante). Una tupla es un conjunto de valores encerrados entre paréntesis y separados por comas. Ejemplo tupla de 3 valores -> (valor1, valor2, valor3)\n",
    "\n",
    "Podemos guardar los valores de una tupla en variables independientes haciendo una asignación, donde el número de variables debe coincidir con el número de valores de la tupla.\n"
   ]
  },
  {
   "cell_type": "code",
   "execution_count": 17,
   "metadata": {},
   "outputs": [
    {
     "name": "stdout",
     "output_type": "stream",
     "text": [
      "(1, 2)\n",
      "1\n",
      "2\n"
     ]
    }
   ],
   "source": [
    "# Ejemplo de almacenar una tupla en dos variables\n",
    "tupla = (1, 2)\n",
    "print(tupla)\n",
    "type(tupla)\n",
    "\n",
    "var1, var2 = tupla\n",
    "print(var1)\n",
    "print(var2)"
   ]
  },
  {
   "cell_type": "code",
   "execution_count": 19,
   "metadata": {},
   "outputs": [
    {
     "name": "stdout",
     "output_type": "stream",
     "text": [
      "9\n",
      "-1\n"
     ]
    }
   ],
   "source": [
    "# Ejemplo función con retorno de 2 valores, retorna la suma y resta de 2 números\n",
    "def suma_y_resta(numero1,numero2):\n",
    "    return numero1 + numero2, numero1 - numero2\n",
    "\n",
    "# Invoco la función y guardo los valores en 2 variables\n",
    "suma, resta = suma_y_resta(4,5)\n",
    "print(suma)\n",
    "print(resta)"
   ]
  },
  {
   "cell_type": "markdown",
   "metadata": {},
   "source": [
    "# Función modf y precisión numérica"
   ]
  },
  {
   "cell_type": "code",
   "execution_count": 23,
   "metadata": {},
   "outputs": [
    {
     "name": "stdout",
     "output_type": "stream",
     "text": [
      "Parte entera = 15.0 y Parte fraccionaria = 0.7\n"
     ]
    }
   ],
   "source": [
    "# La función modf de la librería math nos va a devolver una tupla con la parte decimal y la parte entera\n",
    "parte_fraccionaria, parte_entera = m.modf(15.7)\n",
    "print(f\"Parte entera = {parte_entera} y Parte fraccionaria = {round(parte_fraccionaria, 4)}\")\n",
    "\n",
    "# La parte fraccionaria no es exacta por motivos de precisión de representación en binario en punto flotante\n",
    "# Podemos redondear la parte fraccionaria a 2 decimales con la función predefinida round(número, decimales)\n"
   ]
  },
  {
   "cell_type": "markdown",
   "metadata": {},
   "source": [
    "# Modificar el comportamiento de la función print()"
   ]
  },
  {
   "cell_type": "code",
   "execution_count": 24,
   "metadata": {},
   "outputs": [
    {
     "name": "stdout",
     "output_type": "stream",
     "text": [
      "1:2:3\n"
     ]
    }
   ],
   "source": [
    "# Los print realizan un salto de línea por defecto, pero a veces deseamos seguir imprimiendo en la misma línea\n",
    "# La función print admite el parámetro \"end\" que indica cómo debe acabar el print. \n",
    "print(1, end=\":\")\n",
    "print(2, end=\":\")\n",
    "print(3)"
   ]
  },
  {
   "cell_type": "code",
   "execution_count": 26,
   "metadata": {},
   "outputs": [
    {
     "name": "stdout",
     "output_type": "stream",
     "text": [
      "Hola|5|hola\n"
     ]
    }
   ],
   "source": [
    "# También podemos modificar el separador cuando se imprimen varios elementos\n",
    "# Por defecto el separador es un espacio, pero podemos cambiarlo con el parámetro \"sep\"\n",
    "print(\"Hola\", 5, \"hola\", sep=\"|\")"
   ]
  },
  {
   "cell_type": "markdown",
   "metadata": {},
   "source": [
    "# Ejercicio\n",
    "\n",
    "+ Calcula el área y el perímetro de un círculo.\n",
    "+ Se debe pedir al usuario el radio del círculo y calcular a partir de él.\n",
    "+ Imprimir ambos resultados.\n",
    "+ Usa la constante **_pi_** definida en la librería math .\n",
    "\n",
    "![Imagen de círculo](./img/img0.png)"
   ]
  },
  {
   "cell_type": "code",
   "execution_count": 34,
   "metadata": {},
   "outputs": [
    {
     "name": "stdout",
     "output_type": "stream",
     "text": [
      "El area del circulo es: 50.26548245743669\n",
      "El perímetro del circulo es: 25.132741228718345\n"
     ]
    }
   ],
   "source": [
    "# Ejercicio\n",
    "radio = float(input(\"Introduce el radio\"))\n",
    "print(f\"El area del circulo es: {m.pi * radio**2}\" )\n",
    "print(f\"El perímetro del circulo es: {2 * radio * m.pi}\" )\n",
    "# Pide al usuario que introduzca el radio de un círculo y calcula su área y perímetro\n"
   ]
  },
  {
   "cell_type": "code",
   "execution_count": null,
   "metadata": {},
   "outputs": [],
   "source": []
  }
 ],
 "metadata": {
  "kernelspec": {
   "display_name": "EJERCICIOS",
   "language": "python",
   "name": "python3"
  },
  "language_info": {
   "codemirror_mode": {
    "name": "ipython",
    "version": 3
   },
   "file_extension": ".py",
   "mimetype": "text/x-python",
   "name": "python",
   "nbconvert_exporter": "python",
   "pygments_lexer": "ipython3",
   "version": "3.12.7"
  }
 },
 "nbformat": 4,
 "nbformat_minor": 4
}
