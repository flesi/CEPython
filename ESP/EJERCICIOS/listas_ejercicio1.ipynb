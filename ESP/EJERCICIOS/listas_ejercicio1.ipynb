{
 "cells": [
  {
   "cell_type": "markdown",
   "id": "ed4802e0",
   "metadata": {},
   "source": [
    "# Indexación y tamaño\n",
    "\n",
    "Rellena lo que haga falta después de la , de cada print para hacer lo que indica el comentario."
   ]
  },
  {
   "cell_type": "code",
   "execution_count": 4,
   "id": "bd409c79",
   "metadata": {},
   "outputs": [
    {
     "name": "stdout",
     "output_type": "stream",
     "text": [
      "Tamaño:\n",
      "Primer elemento:\n",
      "Último elemento:\n",
      "Elemento posición 2:\n"
     ]
    }
   ],
   "source": [
    "lista = [1, 2, 3, 4]\n",
    "\n",
    "# Imprime cuántos elementos tiene la lista\n",
    "print(\"Tamaño:\", )\n",
    "\n",
    "# Imprime el primer elemento de la lista\n",
    "print(\"Primer elemento:\",)\n",
    "\n",
    "# Imprime el último elemento de la lista (usando índice negativo)\n",
    "print(\"Último elemento:\", )\n",
    "\n",
    "# Imprime el valor 3 de la lista utilizando su índice\n",
    "print(\"Elemento posición 2:\", )"
   ]
  },
  {
   "cell_type": "markdown",
   "id": "6165f4db",
   "metadata": {},
   "source": [
    "# Operadores \"aritméticos\"\n",
    "\n",
    "Después de cada operación imprime el resultado. \n",
    "\n",
    "La salida debe ser así: \n",
    "\n",
    "Paso 1: [1, 2, 3, 4]\n",
    "\n",
    "Paso 2: [1, 2, 3, 4, 1, 2, 3, 4]"
   ]
  },
  {
   "cell_type": "code",
   "execution_count": 5,
   "id": "216e8cce",
   "metadata": {},
   "outputs": [],
   "source": [
    "lista = [1, 2]\n",
    "lista2 = [3, 4]\n",
    "\n",
    "# Concatena ambas listas dentro de la variable lista\n",
    "\n",
    "\n",
    "\n",
    "# Multiplica lista * 2, guardándola en variable lista\n"
   ]
  },
  {
   "cell_type": "markdown",
   "id": "463341bb",
   "metadata": {},
   "source": [
    "# Recorrer lista con for\n",
    "\n",
    "La salida debe ser:\n",
    "\n",
    "1:2:3:4:5:"
   ]
  },
  {
   "cell_type": "code",
   "execution_count": 6,
   "id": "895cff7c",
   "metadata": {},
   "outputs": [
    {
     "name": "stdout",
     "output_type": "stream",
     "text": [
      "\n"
     ]
    }
   ],
   "source": [
    "lista = [1, 2, 3, 4, 5]\n",
    "\n",
    "# Recorre la lista con un for, imprime los elementos en una sola línea, separados por :\n",
    "\n",
    "\n",
    "# Hacemos un print al final para hacer un salto de línea\n",
    "print()"
   ]
  },
  {
   "cell_type": "markdown",
   "id": "f4804c5a",
   "metadata": {},
   "source": [
    "# Insercción de elementos en una lista\n",
    "\n",
    "La salida debe ser:\n",
    "\n",
    "Paso 1: [1]\n",
    "\n",
    "Paso 2: [1, 2]\n",
    "\n",
    "Paso 3: [1, 2, 3]\n",
    "\n",
    "Paso 4: [1, 2, 3, 4, 5]\n",
    "\n",
    "Paso 5: [3, 1, 2, 3, 4, 5]"
   ]
  },
  {
   "cell_type": "code",
   "execution_count": 7,
   "id": "41c1aae3",
   "metadata": {},
   "outputs": [
    {
     "name": "stdout",
     "output_type": "stream",
     "text": [
      "Paso 1: [1]\n"
     ]
    }
   ],
   "source": [
    "# Lista vacía\n",
    "lista = []\n",
    "\n",
    "# Usa append para meter el valor 1. Ejemplo ya hecho\n",
    "lista.append(1)\n",
    "print(\"Paso 1:\", lista)\n",
    "\n",
    "# Usa append para meter el valor 2\n",
    "\n",
    "\n",
    "# Usa append para meter el valor 3\n",
    "\n",
    "\n",
    "# Usa extend para meter la lista [4, 5]\n",
    "\n",
    "\n",
    "# Inserta en la posición 0 el valor 3\n"
   ]
  },
  {
   "cell_type": "markdown",
   "id": "855781b6",
   "metadata": {},
   "source": [
    "# Otros métodos de listas\n",
    "\n",
    "La salida debe quedar así:\n",
    "\n",
    "Paso 1: 0\n",
    "\n",
    "Paso 2: 2\n",
    "\n",
    "Paso 3: [5, 4, 3, 2, 1, 3]\n",
    "\n",
    "Pas 4: [1, 2, 3, 3, 4, 5]\n",
    "\n",
    "Pas 5: [5, 4, 3, 3, 2, 1]"
   ]
  },
  {
   "cell_type": "code",
   "execution_count": 8,
   "id": "b8166dd6",
   "metadata": {},
   "outputs": [],
   "source": [
    "# Encuentra y muestra el índice del valor 3\n",
    "\n",
    "\n",
    "# Cuenta y muestra cuántas veces aparece el valor 3\n",
    "\n",
    "\n",
    "# Haz una copia de la lista en lista_copia\n",
    "\n",
    "\n",
    "# Invierte los valores de lista_copia\n",
    "\n",
    "\n",
    "# Ordena los valores de lista_copia de menor a mayor\n",
    "\n",
    "\n",
    "# Ordena los valores de lsita_copia de mayor a menor\n"
   ]
  },
  {
   "cell_type": "markdown",
   "id": "a14a6673",
   "metadata": {},
   "source": [
    "# Borrado de elementos en una lista\n",
    "\n",
    "La salida debe ser:\n",
    "\n",
    "Paso 1: [1, 2, 4]\n",
    "\n",
    "Paso 2: Elemento borrado: 4. Lista: [1, 2]\n",
    "\n",
    "Paso 3: []"
   ]
  },
  {
   "cell_type": "code",
   "execution_count": 9,
   "id": "063f9cd3",
   "metadata": {},
   "outputs": [],
   "source": [
    "# a la lista anterior, borra el primer 3 de la lista\n",
    "\n",
    "\n",
    "# borra el último elemento, imprime el elemento y la lista\n",
    "\n",
    "\n",
    "# Borra la lista\n"
   ]
  },
  {
   "cell_type": "markdown",
   "id": "7c01f7a6",
   "metadata": {},
   "source": [
    "# Operadores in / not in\n",
    "\n",
    "La salida debe ser (siendo x el número introducido):\n",
    "\n",
    "¿Está en la lista el número x? False\n"
   ]
  },
  {
   "cell_type": "code",
   "execution_count": 10,
   "id": "7a97f397",
   "metadata": {},
   "outputs": [],
   "source": [
    "mi_lista = [1, 2, 3, 4]\n",
    "\n",
    "# Pide un número entero al usuario\n",
    "\n",
    "\n",
    "# Comprueba si ese número está en lista, impriendo True o False\n"
   ]
  },
  {
   "cell_type": "markdown",
   "id": "fc8134d4",
   "metadata": {},
   "source": [
    "# Funciones predefinidas en Python para listas\n",
    "\n",
    "La salida correcta es:\n",
    "\n",
    "Paso 1: 4\n",
    "\n",
    "Paso 2: 0\n",
    "\n",
    "Paso 3: 7\n",
    "\n",
    "Paso 4: [0, 1, 2, 4]\n",
    "\n",
    "Lista original: [4, 0, 2, 1]"
   ]
  },
  {
   "cell_type": "code",
   "execution_count": 12,
   "id": "a645b848",
   "metadata": {},
   "outputs": [],
   "source": [
    "mi_lista = [4, 0, 2, 1]\n",
    "\n",
    "# Muestra el valor máximo\n",
    "\n",
    "\n",
    "# Muestra el valor mínimo\n",
    "\n",
    "\n",
    "# Muestra la suma de valores\n",
    "\n",
    "\n",
    "# Obtén una copia ordenada de la lista\n",
    "\n",
    "\n",
    "# Muestra la lista original para verificar que se ha ordenado una copia\n"
   ]
  },
  {
   "cell_type": "markdown",
   "id": "8e71115c",
   "metadata": {},
   "source": [
    "# Funciones any y all\n",
    "\n",
    "Asignando una lista a la variable lista que está en el código debes conseguir ciertos resultados que se indican en los comentarios.\n",
    "\n",
    "La salida debe ser:\n",
    "\n",
    "Paso 1: True\n",
    "\n",
    "Paso 2: False\n",
    "\n",
    "Paso 3: True\n",
    "\n",
    "Paso 4: False"
   ]
  },
  {
   "cell_type": "code",
   "execution_count": null,
   "id": "1fa871e6",
   "metadata": {},
   "outputs": [],
   "source": [
    "# Paso 1: Haz una lista con 2 números, donde al aplicar any el resultado sea True. EJEMPLO HECHO\n",
    "lista = [1, 0]\n",
    "print(\"Paso 1:\", any(lista))\n",
    "\n",
    "\n",
    "# Paso 2: Igual que el anterior, pero con resultado false\n",
    "lista = []\n",
    "print(\"Paso 2:\", any(lista))\n",
    "\n",
    "\n",
    "# Paso 3: Haz una lista con 2 números, donde al aplicar all el resultado sea True\n",
    "lista = []\n",
    "print(\"Paso 3:\", all(lista))\n",
    "\n",
    "\n",
    "# Paso 4: Igual que el anterior, pero con resultado false\n",
    "lista = []\n",
    "print(\"Paso 4:\", all(lista))"
   ]
  },
  {
   "cell_type": "markdown",
   "id": "c41a7b42",
   "metadata": {},
   "source": [
    "# Funciones any y all con booleanos\n",
    "\n",
    "Similar al anterior pero con valores booleanos True/False"
   ]
  },
  {
   "cell_type": "code",
   "execution_count": 19,
   "id": "604a09a6",
   "metadata": {},
   "outputs": [
    {
     "name": "stdout",
     "output_type": "stream",
     "text": [
      "Paso 1: False\n",
      "Paso 2: False\n",
      "Paso 3: True\n",
      "Paso 4: True\n"
     ]
    }
   ],
   "source": [
    "# Haz una lista con 2 booleanos, donde al aplicar any el resultado sea True\n",
    "lista = []\n",
    "print(\"Paso 1:\", any(lista))\n",
    "\n",
    "# Igual que el anterior, pero con resultado false\n",
    "lista = []\n",
    "print(\"Paso 2:\", any(lista))\n",
    "\n",
    "\n",
    "# Haz una lista con 2 bool, donde al aplicar all el resultado sea True\n",
    "lista = []\n",
    "print(\"Paso 3:\", all(lista))\n",
    "\n",
    "\n",
    "# Igual que el anterior, pero con resultado false\n",
    "lista = []\n",
    "print(\"Paso 4:\", all(lista))"
   ]
  },
  {
   "cell_type": "markdown",
   "id": "cc4f182a",
   "metadata": {},
   "source": [
    "# Slicing de listas\n",
    "\n",
    "El resultado es: \n",
    "\n",
    "Paso 1: [2, 3, 4, 5, 6, 7, 8]\n",
    "\n",
    "Paso 2: [3, 4, 5, 6, 7, 8, 9, 10]\n",
    "\n",
    "Paso 3: [1, 3, 5, 7, 9]\n",
    "\n",
    "Paso 4: [2, 4, 6, 8, 10]\n"
   ]
  },
  {
   "cell_type": "code",
   "execution_count": 14,
   "id": "643b8836",
   "metadata": {},
   "outputs": [],
   "source": [
    "# Tenemos una lista ordenada de números del 1 al 10\n",
    "lista = [1, 2, 3, 4, 5, 6, 7, 8, 9, 10]\n",
    "\n",
    "# Muestra los números del 2 al 8\n",
    "\n",
    "\n",
    "# Muestra los números del 3 hasta el final\n",
    "\n",
    "\n",
    "# Muestra los números impares\n",
    "\n",
    "\n",
    "# Muestra los números pares\n"
   ]
  },
  {
   "cell_type": "markdown",
   "id": "691d43c8",
   "metadata": {},
   "source": [
    "---\n",
    "# Ejercicio 1\n",
    "\n",
    "+ Tenemos una lista con 4 elementos lista=[1, 2, 3, 4] \n",
    "+ Tenemos lista vacía, lista2=[]\n",
    "+ Mediante un for recorremos la lista con elementos\n",
    "+ En cada paso del for, pedimos al usuario un número entero y lo introducimos en lista2\n",
    "+ Al finalizar el for, obtenemos la suma total de los números de ambas listas y lo mostramos."
   ]
  },
  {
   "cell_type": "code",
   "execution_count": 16,
   "id": "b690467e",
   "metadata": {},
   "outputs": [],
   "source": [
    "lista = [1, 2, 3, 4]\n",
    "lista2 = []\n",
    "\n"
   ]
  },
  {
   "cell_type": "markdown",
   "id": "d5b0c597",
   "metadata": {},
   "source": [
    "# Ejercicio 2\n",
    "\n",
    "+ Tenemos una lista con 4 elementos lista=[1, 2, 3, 4]\n",
    "+ Mediante un for recorremos la lista\n",
    "+ En cada paso del for, pedimos al usuario un número entero y modificamos la posición de la lista según el paso del for. Es decir, en número introducido en el paso 1 modifica el índice 0, el número introducido en el paso 2 modifica el índice 1 y así sucesivamente.\n",
    "+ Al acabar el for muestra la lista modificada.\n",
    "\n",
    "**Consejo**: Utiliza una variablle llamada _indice_ para almacenar qué posición de la lista modificas en casa paso del for."
   ]
  },
  {
   "cell_type": "code",
   "execution_count": 17,
   "id": "3cefc0b4",
   "metadata": {},
   "outputs": [],
   "source": [
    "lista = [1, 2, 3, 4]\n"
   ]
  },
  {
   "cell_type": "markdown",
   "id": "beb0eb55",
   "metadata": {},
   "source": [
    "# Ejercicio 3\n",
    "\n",
    "Vamos a calcular la suma de los números pares y la cantidad de números pares que hay presentes en una lista.\n",
    "\n",
    "+ Tenemos una lista con números lista=[3, 4, 5, 7, 1, 2, 6]\n",
    "+ Mediante un for recorremos la lista\n",
    "+ En cada paso del for debemos comprobar con un if si el número es par. Si es par, se suma a una variable donde se acumula la suma. Además, debemos incrementar en 1 otra variable donde contamos cuántos pares hay en la lista.\n",
    "+ Al finalizar el for mostrar todo el resultado\n",
    "\n",
    "**Consejo**: Un número es par si al dividir por 2 el resto es 0 -> operador módulo %"
   ]
  },
  {
   "cell_type": "code",
   "execution_count": 18,
   "id": "cf66c848",
   "metadata": {},
   "outputs": [],
   "source": [
    "lista = [3, 4, 5, 7, 1, 2, 6]"
   ]
  }
 ],
 "metadata": {
  "kernelspec": {
   "display_name": "Python 3 (ipykernel)",
   "language": "python",
   "name": "python3"
  },
  "language_info": {
   "codemirror_mode": {
    "name": "ipython",
    "version": 3
   },
   "file_extension": ".py",
   "mimetype": "text/x-python",
   "name": "python",
   "nbconvert_exporter": "python",
   "pygments_lexer": "ipython3",
   "version": "3.11.5"
  }
 },
 "nbformat": 4,
 "nbformat_minor": 5
}
