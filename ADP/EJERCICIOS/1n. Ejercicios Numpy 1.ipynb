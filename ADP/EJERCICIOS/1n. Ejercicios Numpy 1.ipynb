{
 "cells": [
  {
   "cell_type": "markdown",
   "id": "8f0390a3",
   "metadata": {},
   "source": [
    "# Ejercicio 1\n",
    "\n",
    "Obtén los atributos del ndarray de numpy, muéstralos por pantalla y muestra también su contenido elemento a elemento mediante un for"
   ]
  },
  {
   "cell_type": "code",
   "execution_count": 1,
   "id": "a7ad8c5c",
   "metadata": {},
   "outputs": [
    {
     "name": "stdout",
     "output_type": "stream",
     "text": [
      "4.5\n",
      "7.36\n",
      "7.0\n",
      "0.56\n"
     ]
    }
   ],
   "source": [
    "import numpy as np\n",
    "\n",
    "# Lista para crear el array a partir de ella\n",
    "lista = [4.5, 7.36, 7., 0.56]\n",
    "\n",
    "# Creamos el array mediante la estructura lista\n",
    "mi_array = np.array(lista)\n",
    "\n",
    "#Sigue a partir de aquí\n",
    "for num in mi_array:\n",
    "    print(num)"
   ]
  },
  {
   "cell_type": "markdown",
   "id": "a03a9d67",
   "metadata": {},
   "source": [
    "# Ejercicio 2\n",
    "\n",
    "1. Crear una función llamada “inicializar_array” que reciba por parámetro un ndarray y retorne el array modificado con valores introducidos por teclado por el usuario usando un for.\n",
    "\n",
    "2. Una vez tenéis la función, crear un array del tamaño que sea e invocar a la función anterior, guardando el return en una nueva variable.\n",
    "\n",
    "3. Comprobar si ambos arrays tienen los mismos valores y son el mismo objeto."
   ]
  },
  {
   "cell_type": "code",
   "execution_count": 15,
   "id": "b6c567c1",
   "metadata": {},
   "outputs": [
    {
     "name": "stdout",
     "output_type": "stream",
     "text": [
      "[2, 2, 2, 2]\n",
      "[2, 2, 2, 2]\n",
      "id(mi_array): 2621201111872\n",
      "id(mi_array2): 2621201111872\n"
     ]
    }
   ],
   "source": [
    "def inicializar_array(ndarray):\n",
    "    i = 0\n",
    "    for _ in ndarray:\n",
    "        ndarray[i] = int(input(\"Introduce un numero\"))\n",
    "        i+=1\n",
    "    return ndarray\n",
    "    \n",
    "mi_array = [5,3,2,1]\n",
    "mi_array2 = inicializar_array(mi_array)\n",
    "\n",
    "print(mi_array)\n",
    "print(mi_array2)\n",
    "mi_array == mi_array2\n",
    "\n",
    "print(f\"id(mi_array): {id(mi_array)}\") \n",
    "print(f\"id(mi_array2): {id(mi_array2)}\") \n"
   ]
  },
  {
   "cell_type": "markdown",
   "id": "51bc920d",
   "metadata": {},
   "source": [
    "# Ejercicio 3\n",
    "\n",
    "Crear 3 funciones, “media”, “máximo” y “mínimo”, que reciban un ndarray de valores numéricos y devuelva la media aritmética, el valor máximo y el valor mínimo respectivamente. Realizar el cálculo manualmente recorriendo el array con un for en lugar de usar las funciones predefinidas."
   ]
  },
  {
   "cell_type": "code",
   "execution_count": 8,
   "id": "667e0e30",
   "metadata": {},
   "outputs": [
    {
     "name": "stdout",
     "output_type": "stream",
     "text": [
      "11.142857142857142\n",
      "22\n",
      "2\n"
     ]
    }
   ],
   "source": [
    "def media(ndarray):\n",
    "    suma = 0\n",
    "    i = 0\n",
    "    for _ in ndarray:\n",
    "        suma += ndarray[i]\n",
    "        i+= 1\n",
    "    return suma / len(ndarray)\n",
    "\n",
    "def maximo(ndarray):\n",
    "    mayor = ndarray[0]\n",
    "    i = 0\n",
    "    for _ in ndarray:\n",
    "        if ndarray[i] > mayor:\n",
    "            mayor = ndarray[i]\n",
    "        i+= 1\n",
    "    return mayor\n",
    "\n",
    "def minimo(ndarray):\n",
    "    menor = ndarray[0]\n",
    "    i = 0\n",
    "    for _ in ndarray:\n",
    "        if ndarray[i] < menor:\n",
    "            menor = ndarray[i]\n",
    "        i+= 1\n",
    "    return menor\n",
    "\n",
    "mi_array = [22,21,10,15,5,3,2]\n",
    "\n",
    "print(media(mi_array))\n",
    "print(maximo(mi_array))\n",
    "print(minimo(mi_array))\n"
   ]
  },
  {
   "cell_type": "markdown",
   "id": "0dfb3c79",
   "metadata": {},
   "source": [
    "# Ejercicio 4\n",
    "\n",
    "Crear la función “encontrar” (usando for) que busque un valor dentro de un ndarray.\n",
    "\n",
    "1. Parámetros: recibe dos parámetros, un array numérico y un valor. \n",
    "2. Retorno: \n",
    "    * Si valor se encuentra en el array, devolver el índice (primera aparición)\n",
    "    * Si el valor no se encuentra en el array, devolver None.\n",
    "3. Invocar a la función con cualquier array y valor para testear su funcionamiento en ambos casos. "
   ]
  },
  {
   "cell_type": "code",
   "execution_count": 14,
   "id": "b5b63b70",
   "metadata": {},
   "outputs": [
    {
     "name": "stdout",
     "output_type": "stream",
     "text": [
      "3\n",
      "None\n"
     ]
    }
   ],
   "source": [
    "def encontrar(ndarray,valor):\n",
    "    i = 0\n",
    "    for _ in ndarray:\n",
    "        if ndarray[i] == valor:\n",
    "            return i\n",
    "        i+=1\n",
    "    return None\n",
    "\n",
    "mi_array = [1,2,5,3,2,3,1]\n",
    "\n",
    "print(encontrar(mi_array,3))\n",
    "print(encontrar(mi_array,33))\n",
    "\n"
   ]
  }
 ],
 "metadata": {
  "kernelspec": {
   "display_name": "Python 3",
   "language": "python",
   "name": "python3"
  },
  "language_info": {
   "codemirror_mode": {
    "name": "ipython",
    "version": 3
   },
   "file_extension": ".py",
   "mimetype": "text/x-python",
   "name": "python",
   "nbconvert_exporter": "python",
   "pygments_lexer": "ipython3",
   "version": "3.12.7"
  }
 },
 "nbformat": 4,
 "nbformat_minor": 5
}
